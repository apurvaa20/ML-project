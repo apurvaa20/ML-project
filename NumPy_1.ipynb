{
 "cells": [
  {
   "cell_type": "markdown",
   "id": "67f7aa55",
   "metadata": {},
   "source": [
    "# NumPy"
   ]
  },
  {
   "cell_type": "code",
   "execution_count": null,
   "id": "136bbc4c",
   "metadata": {},
   "outputs": [],
   "source": [
    "NumPy >> Numerical Python\n",
    "NumPy is a Python library used for working with arrays.\n",
    "It also has functions for working in domain of linear algebra, fourier transform, and matrices.\n",
    "NumPy was created in 2005 by Travis Oliphant. It is an open source project and you can use it freely.\n",
    "NumPy stands for Numerical Python.\n"
   ]
  },
  {
   "cell_type": "code",
   "execution_count": null,
   "id": "7c63a9d5",
   "metadata": {},
   "outputs": [],
   "source": [
    "Why Use NumPy?\n",
    "In Python we have lists that serve the purpose of arrays, but they are slow to process.\n",
    "\n",
    "NumPy aims to provide an array object that is up to 50x faster than traditional Python lists.\n",
    "\n",
    "The array object in NumPy is called ndarray, it provides a lot of supporting functions that make working with \n",
    "ndarray very easy.\n",
    "\n",
    "Arrays are very frequently used in data science, where speed and resources are very important."
   ]
  },
  {
   "cell_type": "code",
   "execution_count": 1,
   "id": "cfa9340a",
   "metadata": {},
   "outputs": [],
   "source": [
    "import numpy\n",
    "import numpy as np"
   ]
  },
  {
   "cell_type": "markdown",
   "id": "c50b189a",
   "metadata": {},
   "source": [
    "#### Applications"
   ]
  },
  {
   "cell_type": "code",
   "execution_count": null,
   "id": "84465d70",
   "metadata": {},
   "outputs": [],
   "source": [
    "1. Linear Algebra\n",
    "2. Statistics\n",
    "3. Trigonometry\n",
    "4. Matrix Operations\n",
    "5. Image Processing\n",
    "6. Logarithmic Operations"
   ]
  },
  {
   "cell_type": "markdown",
   "id": "4e7945b7",
   "metadata": {},
   "source": [
    "#### Properties"
   ]
  },
  {
   "cell_type": "code",
   "execution_count": null,
   "id": "83a01a19",
   "metadata": {},
   "outputs": [],
   "source": [
    "1. It is a collection of homogenous Datatypes.\n",
    "2. Numpy array is faster than list(heterogenous)\n",
    "3. Numpy is writtedn in C and C++ Language (Partially in Python)\n",
    "4. C Language is faster than Python\n",
    "5. ndarray >> n dimensional array (0D,1D,2D,3D,nD)\n",
    "6. Array can be created using list or tuple"
   ]
  },
  {
   "cell_type": "code",
   "execution_count": null,
   "id": "e8aff615",
   "metadata": {},
   "outputs": [],
   "source": []
  },
  {
   "cell_type": "code",
   "execution_count": 2,
   "id": "9e5f40ea",
   "metadata": {},
   "outputs": [
    {
     "data": {
      "text/plain": [
       "list"
      ]
     },
     "execution_count": 2,
     "metadata": {},
     "output_type": "execute_result"
    }
   ],
   "source": [
    "lst = [1,2,3,4,5]\n",
    "type(lst)"
   ]
  },
  {
   "cell_type": "markdown",
   "id": "9416c76e",
   "metadata": {},
   "source": [
    "### 1. np.array()"
   ]
  },
  {
   "cell_type": "code",
   "execution_count": 3,
   "id": "0c0585fe",
   "metadata": {},
   "outputs": [
    {
     "ename": "TypeError",
     "evalue": "array() takes from 1 to 2 positional arguments but 5 were given",
     "output_type": "error",
     "traceback": [
      "\u001b[1;31m---------------------------------------------------------------------------\u001b[0m",
      "\u001b[1;31mTypeError\u001b[0m                                 Traceback (most recent call last)",
      "Cell \u001b[1;32mIn[3], line 1\u001b[0m\n\u001b[1;32m----> 1\u001b[0m arr1 \u001b[38;5;241m=\u001b[39m np\u001b[38;5;241m.\u001b[39marray(\u001b[38;5;241m1\u001b[39m,\u001b[38;5;241m2\u001b[39m,\u001b[38;5;241m3\u001b[39m,\u001b[38;5;241m4\u001b[39m,\u001b[38;5;241m5\u001b[39m)\n\u001b[0;32m      2\u001b[0m arr1\n",
      "\u001b[1;31mTypeError\u001b[0m: array() takes from 1 to 2 positional arguments but 5 were given"
     ]
    }
   ],
   "source": [
    "arr1 = np.array(1,2,3,4,5)\n",
    "arr1"
   ]
  },
  {
   "cell_type": "code",
   "execution_count": 4,
   "id": "f28e2665",
   "metadata": {},
   "outputs": [
    {
     "data": {
      "text/plain": [
       "array([1, 2, 3, 4, 5])"
      ]
     },
     "execution_count": 4,
     "metadata": {},
     "output_type": "execute_result"
    }
   ],
   "source": [
    "arr1 = np.array([1,2,3,4,5])   # list\n",
    "arr1"
   ]
  },
  {
   "cell_type": "code",
   "execution_count": 6,
   "id": "40eb30b2",
   "metadata": {},
   "outputs": [
    {
     "data": {
      "text/plain": [
       "array([1, 2, 3, 4, 5, 6])"
      ]
     },
     "execution_count": 6,
     "metadata": {},
     "output_type": "execute_result"
    }
   ],
   "source": [
    "tup = np.array((1,2,3,4,5,6))    # tuple\n",
    "tup"
   ]
  },
  {
   "cell_type": "code",
   "execution_count": 7,
   "id": "acdb014f",
   "metadata": {},
   "outputs": [
    {
     "data": {
      "text/plain": [
       "numpy.ndarray"
      ]
     },
     "execution_count": 7,
     "metadata": {},
     "output_type": "execute_result"
    }
   ],
   "source": [
    "type(arr1)"
   ]
  },
  {
   "cell_type": "code",
   "execution_count": 8,
   "id": "9bd6d5ed",
   "metadata": {},
   "outputs": [
    {
     "data": {
      "text/plain": [
       "numpy.ndarray"
      ]
     },
     "execution_count": 8,
     "metadata": {},
     "output_type": "execute_result"
    }
   ],
   "source": [
    "type(tup)"
   ]
  },
  {
   "cell_type": "code",
   "execution_count": 9,
   "id": "ea3e2214",
   "metadata": {},
   "outputs": [
    {
     "data": {
      "text/plain": [
       "array(100)"
      ]
     },
     "execution_count": 9,
     "metadata": {},
     "output_type": "execute_result"
    }
   ],
   "source": [
    "# Zero dimensional array\n",
    "\n",
    "arr1 = np.array(100)\n",
    "arr1"
   ]
  },
  {
   "cell_type": "code",
   "execution_count": 10,
   "id": "074d1171",
   "metadata": {},
   "outputs": [
    {
     "data": {
      "text/plain": [
       "array([1, 2, 3, 4, 5])"
      ]
     },
     "execution_count": 10,
     "metadata": {},
     "output_type": "execute_result"
    }
   ],
   "source": [
    "list1 = [1,2,3,4,5]\n",
    "arr = np.array(l1)\n",
    "arr"
   ]
  },
  {
   "cell_type": "code",
   "execution_count": 11,
   "id": "a51bd01d",
   "metadata": {},
   "outputs": [
    {
     "name": "stdout",
     "output_type": "stream",
     "text": [
      "[1 2 3 4 5]\n"
     ]
    }
   ],
   "source": [
    "list1 = [1,2,3,4,5]\n",
    "arr = np.array(l1)\n",
    "print(arr)"
   ]
  },
  {
   "cell_type": "code",
   "execution_count": 12,
   "id": "1d806b81",
   "metadata": {},
   "outputs": [
    {
     "data": {
      "text/plain": [
       "[[1, 2], [3, 4]]"
      ]
     },
     "execution_count": 12,
     "metadata": {},
     "output_type": "execute_result"
    }
   ],
   "source": [
    "l2 = [[1,2],[3,4]]\n",
    "l2"
   ]
  },
  {
   "cell_type": "code",
   "execution_count": 13,
   "id": "4e682701",
   "metadata": {},
   "outputs": [
    {
     "data": {
      "text/plain": [
       "array([[1, 2],\n",
       "       [3, 4]])"
      ]
     },
     "execution_count": 13,
     "metadata": {},
     "output_type": "execute_result"
    }
   ],
   "source": [
    "arr = np.array([[1,2],[3,4]])\n",
    "arr"
   ]
  },
  {
   "cell_type": "code",
   "execution_count": 14,
   "id": "31ce2e57",
   "metadata": {},
   "outputs": [
    {
     "name": "stdout",
     "output_type": "stream",
     "text": [
      "[[1 2]\n",
      " [3 4]]\n"
     ]
    }
   ],
   "source": [
    "print(arr)"
   ]
  },
  {
   "cell_type": "markdown",
   "id": "7cfb29a5",
   "metadata": {},
   "source": [
    "### Type casting in NumPy Array"
   ]
  },
  {
   "cell_type": "code",
   "execution_count": null,
   "id": "247d585a",
   "metadata": {},
   "outputs": [],
   "source": [
    "int >> float\n",
    "int >> complex\n",
    "int >> str/objec"
   ]
  },
  {
   "cell_type": "code",
   "execution_count": 15,
   "id": "63fa47ac",
   "metadata": {},
   "outputs": [
    {
     "data": {
      "text/plain": [
       "[1, 2, 3, 4, 5, 5.5]"
      ]
     },
     "execution_count": 15,
     "metadata": {},
     "output_type": "execute_result"
    }
   ],
   "source": [
    "l1 = [1,2,3,4,5,5.5]\n",
    "l1"
   ]
  },
  {
   "cell_type": "code",
   "execution_count": 16,
   "id": "19d2ef00",
   "metadata": {},
   "outputs": [
    {
     "data": {
      "text/plain": [
       "array([1. , 2. , 3. , 4. , 5. , 5.5])"
      ]
     },
     "execution_count": 16,
     "metadata": {},
     "output_type": "execute_result"
    }
   ],
   "source": [
    "array = np.array([1,2,3,4,5,5.5])\n",
    "array"
   ]
  },
  {
   "cell_type": "code",
   "execution_count": 17,
   "id": "78ddd0f3",
   "metadata": {},
   "outputs": [
    {
     "name": "stdout",
     "output_type": "stream",
     "text": [
      "[1.  2.  3.  4.  5.  5.5]\n"
     ]
    }
   ],
   "source": [
    "print(array)"
   ]
  },
  {
   "cell_type": "code",
   "execution_count": 18,
   "id": "6ea97fdd",
   "metadata": {},
   "outputs": [
    {
     "data": {
      "text/plain": [
       "array([1, 2, 3, 4, 5, 5])"
      ]
     },
     "execution_count": 18,
     "metadata": {},
     "output_type": "execute_result"
    }
   ],
   "source": [
    "array = np.array([1,2,3,4,5,5.5], dtype = int)\n",
    "array"
   ]
  },
  {
   "cell_type": "code",
   "execution_count": 19,
   "id": "5e02fc75",
   "metadata": {},
   "outputs": [
    {
     "data": {
      "text/plain": [
       "array([1, 2, 3, 4, 5, 5])"
      ]
     },
     "execution_count": 19,
     "metadata": {},
     "output_type": "execute_result"
    }
   ],
   "source": [
    "array = np.array([1,2,3,4,5,5.5], dtype = 'int')\n",
    "array"
   ]
  },
  {
   "cell_type": "code",
   "execution_count": 20,
   "id": "af77100b",
   "metadata": {},
   "outputs": [
    {
     "data": {
      "text/plain": [
       "array([1, 2, 3, 4, 5, 5], dtype=int32)"
      ]
     },
     "execution_count": 20,
     "metadata": {},
     "output_type": "execute_result"
    }
   ],
   "source": [
    "array = np.array([1,2,3,4,5,5.5], dtype = int)\n",
    "array"
   ]
  },
  {
   "cell_type": "code",
   "execution_count": null,
   "id": "398d71a5",
   "metadata": {},
   "outputs": [],
   "source": [
    "array = np.array([1,2,3,4,5,5.5], int)\n",
    "array"
   ]
  },
  {
   "cell_type": "code",
   "execution_count": 24,
   "id": "5b8467b9",
   "metadata": {},
   "outputs": [
    {
     "data": {
      "text/plain": [
       "array([1. , 2. , 3. , 4. , 5. , 5.5])"
      ]
     },
     "execution_count": 24,
     "metadata": {},
     "output_type": "execute_result"
    }
   ],
   "source": [
    "array = np.array([1,2,3,4,5,5.5])\n",
    "array"
   ]
  },
  {
   "cell_type": "code",
   "execution_count": 25,
   "id": "2a442330",
   "metadata": {},
   "outputs": [
    {
     "data": {
      "text/plain": [
       "array([1, 2, 3, 4, 5, 5])"
      ]
     },
     "execution_count": 25,
     "metadata": {},
     "output_type": "execute_result"
    }
   ],
   "source": [
    "array = np.array([1,2,3,4,5,5])\n",
    "array"
   ]
  },
  {
   "cell_type": "code",
   "execution_count": 21,
   "id": "1bcd4c40",
   "metadata": {},
   "outputs": [
    {
     "data": {
      "text/plain": [
       "array([1. , 2. , 3. , 4. , 5. , 5.5])"
      ]
     },
     "execution_count": 21,
     "metadata": {},
     "output_type": "execute_result"
    }
   ],
   "source": [
    "array = np.array([1,2,3,4,5,5.5], dtype = float)\n",
    "array"
   ]
  },
  {
   "cell_type": "code",
   "execution_count": 22,
   "id": "36314965",
   "metadata": {},
   "outputs": [
    {
     "data": {
      "text/plain": [
       "array([1. , 2. , 3. , 4. , 5. , 5.5])"
      ]
     },
     "execution_count": 22,
     "metadata": {},
     "output_type": "execute_result"
    }
   ],
   "source": [
    "array = np.array([1,2,3,4,5,5.5], dtype = 'float')\n",
    "array"
   ]
  },
  {
   "cell_type": "code",
   "execution_count": 23,
   "id": "afde4d4f",
   "metadata": {},
   "outputs": [
    {
     "data": {
      "text/plain": [
       "array([1. , 2. , 3. , 4. , 5. , 5.5], dtype=float32)"
      ]
     },
     "execution_count": 23,
     "metadata": {},
     "output_type": "execute_result"
    }
   ],
   "source": [
    "array = np.array([1,2,3,4,5,5.5], dtype = 'f')\n",
    "array"
   ]
  },
  {
   "cell_type": "code",
   "execution_count": 26,
   "id": "89f96f99",
   "metadata": {},
   "outputs": [
    {
     "data": {
      "text/plain": [
       "array([1. +0.j, 2. +0.j, 3. +0.j, 4. +0.j, 5. +0.j, 5.5+0.j])"
      ]
     },
     "execution_count": 26,
     "metadata": {},
     "output_type": "execute_result"
    }
   ],
   "source": [
    "array = np.array([1,2,3,4,5,5.5], dtype = complex)\n",
    "array"
   ]
  },
  {
   "cell_type": "code",
   "execution_count": 27,
   "id": "06c729c6",
   "metadata": {},
   "outputs": [
    {
     "data": {
      "text/plain": [
       "array([1. +0.j, 2. +0.j, 3. +0.j, 4. +0.j, 5. +0.j, 5.5+0.j])"
      ]
     },
     "execution_count": 27,
     "metadata": {},
     "output_type": "execute_result"
    }
   ],
   "source": [
    "array = np.array([1,2,3,4,5,5.5], dtype = 'complex')\n",
    "array"
   ]
  },
  {
   "cell_type": "code",
   "execution_count": 28,
   "id": "8c1fbf64",
   "metadata": {},
   "outputs": [
    {
     "data": {
      "text/plain": [
       "array(['1', '2', '3', '4', '5', '5.5'], dtype='<U3')"
      ]
     },
     "execution_count": 28,
     "metadata": {},
     "output_type": "execute_result"
    }
   ],
   "source": [
    "array = np.array([1,2,3,4,5,5.5], dtype = str)\n",
    "array"
   ]
  },
  {
   "cell_type": "code",
   "execution_count": 30,
   "id": "9ac7fde2",
   "metadata": {},
   "outputs": [
    {
     "data": {
      "text/plain": [
       "array(['1', '2', '3', '4', '5', '5'], dtype='<U1')"
      ]
     },
     "execution_count": 30,
     "metadata": {},
     "output_type": "execute_result"
    }
   ],
   "source": [
    "array = np.array([1,2,3,4,5,5], dtype = 'str')\n",
    "array"
   ]
  },
  {
   "cell_type": "code",
   "execution_count": 31,
   "id": "6d99b26c",
   "metadata": {},
   "outputs": [
    {
     "data": {
      "text/plain": [
       "array([1, 2, 3, 4, 5, 5.5], dtype=object)"
      ]
     },
     "execution_count": 31,
     "metadata": {},
     "output_type": "execute_result"
    }
   ],
   "source": [
    "array = np.array([1,2,3,4,5,5.5], dtype = object)\n",
    "array"
   ]
  },
  {
   "cell_type": "code",
   "execution_count": null,
   "id": "47f3683b",
   "metadata": {},
   "outputs": [],
   "source": [
    "str is equivalent to object"
   ]
  },
  {
   "cell_type": "markdown",
   "id": "8219d24a",
   "metadata": {},
   "source": [
    "### Float to other Datatype"
   ]
  },
  {
   "cell_type": "code",
   "execution_count": 32,
   "id": "1ad98acc",
   "metadata": {},
   "outputs": [
    {
     "data": {
      "text/plain": [
       "array([3.  , 4.1 , 5.5 , 6.  , 7.  , 5.48])"
      ]
     },
     "execution_count": 32,
     "metadata": {},
     "output_type": "execute_result"
    }
   ],
   "source": [
    "array = np.array([3, 4.1, 5.5, 6, 7, 5.48])\n",
    "array"
   ]
  },
  {
   "cell_type": "code",
   "execution_count": 33,
   "id": "e6f03b37",
   "metadata": {},
   "outputs": [
    {
     "data": {
      "text/plain": [
       "array([3.  , 4.1 , 5.5 , 6.  , 7.  , 5.48])"
      ]
     },
     "execution_count": 33,
     "metadata": {},
     "output_type": "execute_result"
    }
   ],
   "source": [
    "array = np.array([3, 4.1, 5.5, 6, 7, 5.48], float)\n",
    "array"
   ]
  },
  {
   "cell_type": "code",
   "execution_count": 40,
   "id": "6fa23fb2",
   "metadata": {},
   "outputs": [
    {
     "data": {
      "text/plain": [
       "array([3, 4, 5, 6, 7, 5, 0])"
      ]
     },
     "execution_count": 40,
     "metadata": {},
     "output_type": "execute_result"
    }
   ],
   "source": [
    "array = np.array([3, 4.1, 5.5, 6, 7, 5.48, 0.1], int)\n",
    "array"
   ]
  },
  {
   "cell_type": "code",
   "execution_count": 42,
   "id": "05116a24",
   "metadata": {},
   "outputs": [
    {
     "data": {
      "text/plain": [
       "array([3, 4, 5, 6, 7, 5])"
      ]
     },
     "execution_count": 42,
     "metadata": {},
     "output_type": "execute_result"
    }
   ],
   "source": [
    "array = np.array([3, 4.1, 5.5, 6, 7, 5.48], 'int')\n",
    "array"
   ]
  },
  {
   "cell_type": "code",
   "execution_count": 35,
   "id": "724ea6a7",
   "metadata": {},
   "outputs": [
    {
     "data": {
      "text/plain": [
       "array([3.  +0.j, 4.1 +0.j, 5.5 +0.j, 6.  +0.j, 7.  +0.j, 5.48+0.j])"
      ]
     },
     "execution_count": 35,
     "metadata": {},
     "output_type": "execute_result"
    }
   ],
   "source": [
    "array = np.array([3, 4.1, 5.5, 6, 7, 5.48], 'complex')\n",
    "array"
   ]
  },
  {
   "cell_type": "code",
   "execution_count": 36,
   "id": "ebecf8ed",
   "metadata": {},
   "outputs": [
    {
     "data": {
      "text/plain": [
       "array(['3', '4.1', '5.5', '6', '7', '5.48'], dtype='<U4')"
      ]
     },
     "execution_count": 36,
     "metadata": {},
     "output_type": "execute_result"
    }
   ],
   "source": [
    "array = np.array([3, 4.1, 5.5, 6, 7, 5.48], 'str')\n",
    "array"
   ]
  },
  {
   "cell_type": "code",
   "execution_count": null,
   "id": "2b3d7b5c",
   "metadata": {},
   "outputs": [],
   "source": []
  },
  {
   "cell_type": "markdown",
   "id": "9e085351",
   "metadata": {},
   "source": [
    "### Complex to other datatypes"
   ]
  },
  {
   "cell_type": "code",
   "execution_count": null,
   "id": "7d667f13",
   "metadata": {},
   "outputs": [],
   "source": [
    "We cannot convert complex to int."
   ]
  },
  {
   "cell_type": "code",
   "execution_count": 43,
   "id": "8a3a7473",
   "metadata": {},
   "outputs": [
    {
     "data": {
      "text/plain": [
       "array([ 2.+3.j, 10.+0.j, 20.+0.j, 30.+0.j, 40.+0.j])"
      ]
     },
     "execution_count": 43,
     "metadata": {},
     "output_type": "execute_result"
    }
   ],
   "source": [
    "array1 = np.array([2+3j, 10,20,30,40])\n",
    "array1           # all values converted into complex"
   ]
  },
  {
   "cell_type": "code",
   "execution_count": 44,
   "id": "b147e9d0",
   "metadata": {},
   "outputs": [
    {
     "ename": "TypeError",
     "evalue": "int() argument must be a string, a bytes-like object or a real number, not 'complex'",
     "output_type": "error",
     "traceback": [
      "\u001b[1;31m---------------------------------------------------------------------------\u001b[0m",
      "\u001b[1;31mTypeError\u001b[0m                                 Traceback (most recent call last)",
      "Cell \u001b[1;32mIn[44], line 1\u001b[0m\n\u001b[1;32m----> 1\u001b[0m array1 \u001b[38;5;241m=\u001b[39m np\u001b[38;5;241m.\u001b[39marray([\u001b[38;5;241m2\u001b[39m\u001b[38;5;241m+\u001b[39m\u001b[38;5;241m3\u001b[39mj, \u001b[38;5;241m10\u001b[39m,\u001b[38;5;241m20\u001b[39m,\u001b[38;5;241m30\u001b[39m,\u001b[38;5;241m40\u001b[39m], \u001b[38;5;28mint\u001b[39m)\n\u001b[0;32m      2\u001b[0m array1\n",
      "\u001b[1;31mTypeError\u001b[0m: int() argument must be a string, a bytes-like object or a real number, not 'complex'"
     ]
    }
   ],
   "source": [
    "array1 = np.array([2+3j, 10,20,30,40], int)\n",
    "array1           # complex cannot converted into int"
   ]
  },
  {
   "cell_type": "code",
   "execution_count": 45,
   "id": "77f10b48",
   "metadata": {},
   "outputs": [
    {
     "ename": "TypeError",
     "evalue": "float() argument must be a string or a real number, not 'complex'",
     "output_type": "error",
     "traceback": [
      "\u001b[1;31m---------------------------------------------------------------------------\u001b[0m",
      "\u001b[1;31mTypeError\u001b[0m                                 Traceback (most recent call last)",
      "Cell \u001b[1;32mIn[45], line 1\u001b[0m\n\u001b[1;32m----> 1\u001b[0m array1 \u001b[38;5;241m=\u001b[39m np\u001b[38;5;241m.\u001b[39marray([\u001b[38;5;241m2\u001b[39m\u001b[38;5;241m+\u001b[39m\u001b[38;5;241m3\u001b[39mj, \u001b[38;5;241m10\u001b[39m,\u001b[38;5;241m20\u001b[39m,\u001b[38;5;241m30\u001b[39m,\u001b[38;5;241m40\u001b[39m], \u001b[38;5;28mfloat\u001b[39m)\n\u001b[0;32m      2\u001b[0m array1\n",
      "\u001b[1;31mTypeError\u001b[0m: float() argument must be a string or a real number, not 'complex'"
     ]
    }
   ],
   "source": [
    "array1 = np.array([2+3j, 10,20,30,40], float)\n",
    "array1          # complex cannot converted into float"
   ]
  },
  {
   "cell_type": "code",
   "execution_count": 46,
   "id": "146a493c",
   "metadata": {},
   "outputs": [
    {
     "data": {
      "text/plain": [
       "array(['(2+3j)', '10', '20', '30', '40'], dtype='<U6')"
      ]
     },
     "execution_count": 46,
     "metadata": {},
     "output_type": "execute_result"
    }
   ],
   "source": [
    "array1 = np.array([2+3j, 10,20,30,40], str)\n",
    "array1                       # can be converted into string"
   ]
  },
  {
   "cell_type": "code",
   "execution_count": null,
   "id": "dc14cf62",
   "metadata": {},
   "outputs": [],
   "source": []
  },
  {
   "cell_type": "markdown",
   "id": "9aeccc00",
   "metadata": {},
   "source": [
    "### Numerical Operations"
   ]
  },
  {
   "cell_type": "code",
   "execution_count": 47,
   "id": "fcbe5019",
   "metadata": {},
   "outputs": [
    {
     "data": {
      "text/plain": [
       "array([3, 4, 5, 6, 7])"
      ]
     },
     "execution_count": 47,
     "metadata": {},
     "output_type": "execute_result"
    }
   ],
   "source": [
    "arr2 = np.array([3,4,5,6,7])\n",
    "arr2"
   ]
  },
  {
   "cell_type": "code",
   "execution_count": 48,
   "id": "ba834aee",
   "metadata": {},
   "outputs": [
    {
     "data": {
      "text/plain": [
       "[1, 4, 9, 16, 25]"
      ]
     },
     "execution_count": 48,
     "metadata": {},
     "output_type": "execute_result"
    }
   ],
   "source": [
    "list_1 = [1,2,3,4,5]\n",
    "sqr_list = [i**2 for i in list_1]\n",
    "sqr_list"
   ]
  },
  {
   "cell_type": "code",
   "execution_count": 49,
   "id": "3f1af061",
   "metadata": {},
   "outputs": [
    {
     "data": {
      "text/plain": [
       "[11, 12, 13, 14, 15]"
      ]
     },
     "execution_count": 49,
     "metadata": {},
     "output_type": "execute_result"
    }
   ],
   "source": [
    "list_1 = [1,2,3,4,5]\n",
    "add_10 = [i+10 for i in list_1]\n",
    "add_10"
   ]
  },
  {
   "cell_type": "code",
   "execution_count": 50,
   "id": "60eac56d",
   "metadata": {},
   "outputs": [
    {
     "data": {
      "text/plain": [
       "array([ 1,  4,  9, 16, 25])"
      ]
     },
     "execution_count": 50,
     "metadata": {},
     "output_type": "execute_result"
    }
   ],
   "source": [
    "arr = np.array([1,2,3,4,5])\n",
    "arr**2                       # directly operation is done on variable"
   ]
  },
  {
   "cell_type": "code",
   "execution_count": 51,
   "id": "39c38d18",
   "metadata": {},
   "outputs": [
    {
     "data": {
      "text/plain": [
       "array([11, 12, 13, 14, 15])"
      ]
     },
     "execution_count": 51,
     "metadata": {},
     "output_type": "execute_result"
    }
   ],
   "source": [
    "arr = np.array([1,2,3,4,5])\n",
    "arr+10                       # directly operation is done on variable"
   ]
  },
  {
   "cell_type": "code",
   "execution_count": null,
   "id": "22404533",
   "metadata": {},
   "outputs": [],
   "source": [
    "arr = np.array([1,2,3,4,5])\n",
    "arr*10                       # directly operation is done on variable"
   ]
  },
  {
   "cell_type": "code",
   "execution_count": 52,
   "id": "a702d3c9",
   "metadata": {},
   "outputs": [
    {
     "data": {
      "text/plain": [
       "array([0.5, 1. , 1.5, 2. , 2.5])"
      ]
     },
     "execution_count": 52,
     "metadata": {},
     "output_type": "execute_result"
    }
   ],
   "source": [
    "arr = np.array([1,2,3,4,5])\n",
    "arr/2                       # directly operation is done on variable"
   ]
  },
  {
   "cell_type": "code",
   "execution_count": 54,
   "id": "6ca604c4",
   "metadata": {},
   "outputs": [
    {
     "data": {
      "text/plain": [
       "array([0, 1, 1, 2, 2], dtype=int32)"
      ]
     },
     "execution_count": 54,
     "metadata": {},
     "output_type": "execute_result"
    }
   ],
   "source": [
    "arr = np.array([1,2,3,4,5])\n",
    "arr//2                       # directly operation is done on variable"
   ]
  },
  {
   "cell_type": "code",
   "execution_count": 55,
   "id": "642a9276",
   "metadata": {},
   "outputs": [
    {
     "data": {
      "text/plain": [
       "array([1, 0, 1, 0, 1], dtype=int32)"
      ]
     },
     "execution_count": 55,
     "metadata": {},
     "output_type": "execute_result"
    }
   ],
   "source": [
    "arr = np.array([1,2,3,4,5])\n",
    "arr%2                       # directly operation is done on variable"
   ]
  },
  {
   "cell_type": "code",
   "execution_count": 56,
   "id": "452d1ad6",
   "metadata": {},
   "outputs": [
    {
     "data": {
      "text/plain": [
       "array([-1,  0,  1,  2,  3])"
      ]
     },
     "execution_count": 56,
     "metadata": {},
     "output_type": "execute_result"
    }
   ],
   "source": [
    "arr = np.array([1,2,3,4,5])\n",
    "arr-2                       # directly operation is done on variable"
   ]
  },
  {
   "cell_type": "code",
   "execution_count": 57,
   "id": "094d63b8",
   "metadata": {},
   "outputs": [
    {
     "data": {
      "text/plain": [
       "array([  8,  27,  64, 125, 512, 729], dtype=int32)"
      ]
     },
     "execution_count": 57,
     "metadata": {},
     "output_type": "execute_result"
    }
   ],
   "source": [
    "list1 = [2,3,4,5,8,9]\n",
    "cubes = np.array(list1) ** 3\n",
    "cubes"
   ]
  },
  {
   "cell_type": "code",
   "execution_count": 58,
   "id": "495f12e3",
   "metadata": {},
   "outputs": [
    {
     "data": {
      "text/plain": [
       "[8, 27, 64, 125, 512, 729]"
      ]
     },
     "execution_count": 58,
     "metadata": {},
     "output_type": "execute_result"
    }
   ],
   "source": [
    "list1 = [2,3,4,5,8,9]\n",
    "cubes = np.array(list1) ** 3\n",
    "cubes.tolist()"
   ]
  },
  {
   "cell_type": "code",
   "execution_count": 59,
   "id": "d1434cde",
   "metadata": {},
   "outputs": [
    {
     "data": {
      "text/plain": [
       "[8, 27, 64, 125, 512, 729]"
      ]
     },
     "execution_count": 59,
     "metadata": {},
     "output_type": "execute_result"
    }
   ],
   "source": [
    "list1 = [2,3,4,5,8,9]\n",
    "cubes = np.array(list1) ** 3\n",
    "list(cubes)"
   ]
  },
  {
   "cell_type": "code",
   "execution_count": 60,
   "id": "efdf1b70",
   "metadata": {},
   "outputs": [
    {
     "data": {
      "text/plain": [
       "[8, 27, 64, 125, 512, 729]"
      ]
     },
     "execution_count": 60,
     "metadata": {},
     "output_type": "execute_result"
    }
   ],
   "source": [
    "list1 = [2,3,4,5,8,9]\n",
    "cubes = (np.array(list1) ** 3).tolist()\n",
    "cubes"
   ]
  },
  {
   "cell_type": "code",
   "execution_count": 61,
   "id": "de85bfec",
   "metadata": {},
   "outputs": [
    {
     "data": {
      "text/plain": [
       "array([-4, -3, -2, -1,  0])"
      ]
     },
     "execution_count": 61,
     "metadata": {},
     "output_type": "execute_result"
    }
   ],
   "source": [
    "arr = np.array([1,2,3,4,5])\n",
    "arr-5                     # directly operation is done on variable"
   ]
  },
  {
   "cell_type": "code",
   "execution_count": 62,
   "id": "133f006b",
   "metadata": {},
   "outputs": [
    {
     "data": {
      "text/plain": [
       "array([-4. , -3. , -2. , -1. ,  0.5])"
      ]
     },
     "execution_count": 62,
     "metadata": {},
     "output_type": "execute_result"
    }
   ],
   "source": [
    "arr = np.array([1,2,3,4,5.5])\n",
    "arr-5                     # directly operation is done on variable"
   ]
  },
  {
   "cell_type": "code",
   "execution_count": 64,
   "id": "b95e8049",
   "metadata": {},
   "outputs": [
    {
     "data": {
      "text/plain": [
       "array(['1', '2', '3', '4', '5.5'], dtype='<U32')"
      ]
     },
     "execution_count": 64,
     "metadata": {},
     "output_type": "execute_result"
    }
   ],
   "source": [
    "arr = np.array([1,2,3,'4',5.5])\n",
    "arr                    # directly operation is done on variable"
   ]
  },
  {
   "cell_type": "code",
   "execution_count": 65,
   "id": "634d78ad",
   "metadata": {},
   "outputs": [
    {
     "ename": "UFuncTypeError",
     "evalue": "ufunc 'subtract' did not contain a loop with signature matching types (dtype('<U32'), dtype('int32')) -> None",
     "output_type": "error",
     "traceback": [
      "\u001b[1;31m---------------------------------------------------------------------------\u001b[0m",
      "\u001b[1;31mUFuncTypeError\u001b[0m                            Traceback (most recent call last)",
      "Cell \u001b[1;32mIn[65], line 2\u001b[0m\n\u001b[0;32m      1\u001b[0m arr \u001b[38;5;241m=\u001b[39m np\u001b[38;5;241m.\u001b[39marray([\u001b[38;5;241m1\u001b[39m,\u001b[38;5;241m2\u001b[39m,\u001b[38;5;241m3\u001b[39m,\u001b[38;5;124m'\u001b[39m\u001b[38;5;124m4\u001b[39m\u001b[38;5;124m'\u001b[39m,\u001b[38;5;241m5.5\u001b[39m])\n\u001b[1;32m----> 2\u001b[0m arr \u001b[38;5;241m-\u001b[39m \u001b[38;5;241m5\u001b[39m\n",
      "\u001b[1;31mUFuncTypeError\u001b[0m: ufunc 'subtract' did not contain a loop with signature matching types (dtype('<U32'), dtype('int32')) -> None"
     ]
    }
   ],
   "source": [
    "arr = np.array([1,2,3,'4',5.5])\n",
    "arr - 5                   # directly operation is done on variable"
   ]
  },
  {
   "cell_type": "code",
   "execution_count": 66,
   "id": "86ed7e37",
   "metadata": {},
   "outputs": [
    {
     "ename": "UFuncTypeError",
     "evalue": "ufunc 'multiply' did not contain a loop with signature matching types (dtype('<U32'), dtype('int32')) -> None",
     "output_type": "error",
     "traceback": [
      "\u001b[1;31m---------------------------------------------------------------------------\u001b[0m",
      "\u001b[1;31mUFuncTypeError\u001b[0m                            Traceback (most recent call last)",
      "Cell \u001b[1;32mIn[66], line 2\u001b[0m\n\u001b[0;32m      1\u001b[0m arr \u001b[38;5;241m=\u001b[39m np\u001b[38;5;241m.\u001b[39marray([\u001b[38;5;241m1\u001b[39m,\u001b[38;5;241m2\u001b[39m,\u001b[38;5;241m3\u001b[39m,\u001b[38;5;124m'\u001b[39m\u001b[38;5;124m4\u001b[39m\u001b[38;5;124m'\u001b[39m,\u001b[38;5;241m5.5\u001b[39m])\n\u001b[1;32m----> 2\u001b[0m arr\u001b[38;5;241m*\u001b[39m\u001b[38;5;241m2\u001b[39m\n",
      "\u001b[1;31mUFuncTypeError\u001b[0m: ufunc 'multiply' did not contain a loop with signature matching types (dtype('<U32'), dtype('int32')) -> None"
     ]
    }
   ],
   "source": [
    "arr = np.array([1,2,3,'4',5.5])\n",
    "arr*2                    # directly operation is done on variable"
   ]
  },
  {
   "cell_type": "code",
   "execution_count": 68,
   "id": "baeaa21a",
   "metadata": {},
   "outputs": [
    {
     "data": {
      "text/plain": [
       "'44'"
      ]
     },
     "execution_count": 68,
     "metadata": {},
     "output_type": "execute_result"
    }
   ],
   "source": [
    "'4' * 2           # single item  working as a string, array consist of multiple types of elements"
   ]
  },
  {
   "cell_type": "code",
   "execution_count": null,
   "id": "00a6c4f1",
   "metadata": {},
   "outputs": [],
   "source": []
  },
  {
   "cell_type": "markdown",
   "id": "83bc31e6",
   "metadata": {},
   "source": [
    "### Dimensions in Array"
   ]
  },
  {
   "cell_type": "markdown",
   "id": "e294140f",
   "metadata": {},
   "source": [
    "#### 1.  Zero Dimensional Array"
   ]
  },
  {
   "cell_type": "code",
   "execution_count": null,
   "id": "47dd6806",
   "metadata": {},
   "outputs": [],
   "source": [
    "Zero dimensional  >> array containing only one value"
   ]
  },
  {
   "cell_type": "code",
   "execution_count": 69,
   "id": "38aadcd3",
   "metadata": {},
   "outputs": [
    {
     "data": {
      "text/plain": [
       "array(10)"
      ]
     },
     "execution_count": 69,
     "metadata": {},
     "output_type": "execute_result"
    }
   ],
   "source": [
    "arr0 = np.array(10)\n",
    "arr0"
   ]
  },
  {
   "cell_type": "code",
   "execution_count": 71,
   "id": "a711d975",
   "metadata": {},
   "outputs": [
    {
     "name": "stdout",
     "output_type": "stream",
     "text": [
      "Number of dimensions are :  0\n"
     ]
    }
   ],
   "source": [
    "arr0 = np.array(10)     # zero square bracket >> zero dimensional\n",
    "print(\"Number of dimensions are : \" ,arr0.ndim)"
   ]
  },
  {
   "cell_type": "code",
   "execution_count": 73,
   "id": "a95d6263",
   "metadata": {},
   "outputs": [
    {
     "name": "stdout",
     "output_type": "stream",
     "text": [
      "Number of dimensions are :  0\n"
     ]
    }
   ],
   "source": [
    "arr0 = np.array((10))        # one square bracket >> one dimensional   >> tuple\n",
    "print(\"Number of dimensions are : \" ,arr0.ndim)"
   ]
  },
  {
   "cell_type": "code",
   "execution_count": 72,
   "id": "20e28437",
   "metadata": {},
   "outputs": [
    {
     "name": "stdout",
     "output_type": "stream",
     "text": [
      "Number of dimensions are :  1\n"
     ]
    }
   ],
   "source": [
    "arr0 = np.array([10])        # one square bracket >> one dimensional\n",
    "print(\"Number of dimensions are : \" ,arr0.ndim)"
   ]
  },
  {
   "cell_type": "code",
   "execution_count": null,
   "id": "bc07717b",
   "metadata": {},
   "outputs": [],
   "source": [
    "To get dimensions simply count number of square brackets."
   ]
  },
  {
   "cell_type": "code",
   "execution_count": null,
   "id": "faae9944",
   "metadata": {},
   "outputs": [],
   "source": []
  },
  {
   "cell_type": "markdown",
   "id": "e0281ee4",
   "metadata": {},
   "source": [
    "#### 2. One Dimensional Array"
   ]
  },
  {
   "cell_type": "code",
   "execution_count": null,
   "id": "009aeed9",
   "metadata": {},
   "outputs": [],
   "source": [
    "It is a collection of multiple 0D array"
   ]
  },
  {
   "cell_type": "code",
   "execution_count": 79,
   "id": "b21e3d38",
   "metadata": {},
   "outputs": [
    {
     "name": "stdout",
     "output_type": "stream",
     "text": [
      "Array is:\n",
      " [4 5 6 7 8 9]\n",
      "Number of dimensions :  1\n",
      "\n"
     ]
    }
   ],
   "source": [
    "arr1 = np.array([4,5,6,7,8,9])\n",
    "print(\"Array is:\\n\", arr1)\n",
    "print(\"Number of dimensions : \", arr1.ndim)\n",
    "print()"
   ]
  },
  {
   "cell_type": "code",
   "execution_count": 80,
   "id": "b7267de4",
   "metadata": {},
   "outputs": [
    {
     "name": "stdout",
     "output_type": "stream",
     "text": [
      "Array is:\n",
      " [  4.    5.    6.    7.    8.5 900. ]\n",
      "Number of dimensions :  1\n",
      "\n"
     ]
    }
   ],
   "source": [
    "arr1 = np.array([4,5,6,7,8.5,900])\n",
    "print(\"Array is:\\n\", arr1)\n",
    "print(\"Number of dimensions : \", arr1.ndim)\n",
    "print()"
   ]
  },
  {
   "cell_type": "markdown",
   "id": "7c280519",
   "metadata": {},
   "source": [
    "#### 3. Two Dimensional Array"
   ]
  },
  {
   "cell_type": "code",
   "execution_count": null,
   "id": "e1142451",
   "metadata": {},
   "outputs": [],
   "source": [
    "It is a collection of multiple 1D arrays.>> Nested list"
   ]
  },
  {
   "cell_type": "code",
   "execution_count": 81,
   "id": "5499acf3",
   "metadata": {},
   "outputs": [
    {
     "name": "stdout",
     "output_type": "stream",
     "text": [
      "Array is:\n",
      " [[ 4  5]\n",
      " [ 6  7]\n",
      " [ 8 90]]\n",
      "Number of dimensions :  2\n",
      "\n"
     ]
    }
   ],
   "source": [
    "arr2 = np.array([[4,5],[6,7],[8,90]])\n",
    "print(\"Array is:\\n\", arr2)\n",
    "print(\"Number of dimensions : \", arr2.ndim)\n",
    "print()"
   ]
  },
  {
   "cell_type": "code",
   "execution_count": null,
   "id": "397a211c",
   "metadata": {},
   "outputs": [],
   "source": [
    "Arrays wants things identical."
   ]
  },
  {
   "cell_type": "code",
   "execution_count": 86,
   "id": "bd6735a2",
   "metadata": {},
   "outputs": [
    {
     "ename": "ValueError",
     "evalue": "setting an array element with a sequence. The requested array has an inhomogeneous shape after 1 dimensions. The detected shape was (3,) + inhomogeneous part.",
     "output_type": "error",
     "traceback": [
      "\u001b[1;31m---------------------------------------------------------------------------\u001b[0m",
      "\u001b[1;31mValueError\u001b[0m                                Traceback (most recent call last)",
      "Cell \u001b[1;32mIn[86], line 1\u001b[0m\n\u001b[1;32m----> 1\u001b[0m arr2 \u001b[38;5;241m=\u001b[39m np\u001b[38;5;241m.\u001b[39marray([[\u001b[38;5;241m4\u001b[39m,\u001b[38;5;241m5\u001b[39m,\u001b[38;5;241m6\u001b[39m],[\u001b[38;5;241m7\u001b[39m,\u001b[38;5;241m8\u001b[39m,\u001b[38;5;241m9\u001b[39m],[\u001b[38;5;241m10\u001b[39m,\u001b[38;5;241m11\u001b[39m,\u001b[38;5;241m12\u001b[39m,\u001b[38;5;241m13\u001b[39m]])\n\u001b[0;32m      2\u001b[0m \u001b[38;5;28mprint\u001b[39m(\u001b[38;5;124m'\u001b[39m\u001b[38;5;124mArray is :\u001b[39m\u001b[38;5;130;01m\\n\u001b[39;00m\u001b[38;5;124m'\u001b[39m, arr2)\n\u001b[0;32m      3\u001b[0m \u001b[38;5;28mprint\u001b[39m(\u001b[38;5;124m'\u001b[39m\u001b[38;5;124mNumber of Dimensions are :\u001b[39m\u001b[38;5;124m'\u001b[39m, arr2\u001b[38;5;241m.\u001b[39mndim)\n",
      "\u001b[1;31mValueError\u001b[0m: setting an array element with a sequence. The requested array has an inhomogeneous shape after 1 dimensions. The detected shape was (3,) + inhomogeneous part."
     ]
    }
   ],
   "source": [
    "arr2 = np.array([[4,5,6],[7,8,9],[10,11,12,13]])\n",
    "print('Array is :\\n', arr2)\n",
    "print('Number of Dimensions are :', arr2.ndim)"
   ]
  },
  {
   "cell_type": "code",
   "execution_count": 88,
   "id": "5fd46d4f",
   "metadata": {},
   "outputs": [
    {
     "name": "stdout",
     "output_type": "stream",
     "text": [
      "Array is :\n",
      " [[ 4.  5.  6. nan]\n",
      " [ 7.  8.  9. nan]\n",
      " [10. 11. 12. 13.]]\n",
      "Number of Dimensions are : 2\n"
     ]
    }
   ],
   "source": [
    "arr2 = np.array([[4,5,6,np.nan],[7,8,9, np.nan],[10,11,12,13]])\n",
    "print('Array is :\\n', arr2)\n",
    "print('Number of Dimensions are :', arr2.ndim)"
   ]
  },
  {
   "cell_type": "code",
   "execution_count": null,
   "id": "770723af",
   "metadata": {},
   "outputs": [],
   "source": [
    "nan >>  not a number"
   ]
  },
  {
   "cell_type": "code",
   "execution_count": 89,
   "id": "3be49f92",
   "metadata": {},
   "outputs": [
    {
     "name": "stdout",
     "output_type": "stream",
     "text": [
      "[[4, 5, 6], [40, 50, 60], [44, 66, 88]]\n"
     ]
    },
    {
     "data": {
      "text/plain": [
       "list"
      ]
     },
     "execution_count": 89,
     "metadata": {},
     "output_type": "execute_result"
    }
   ],
   "source": [
    "list2 = [[4,5,6],[40,50,60],[44,66,88]]\n",
    "print(list2)\n",
    "type(list2)"
   ]
  },
  {
   "cell_type": "code",
   "execution_count": 96,
   "id": "6bf52897",
   "metadata": {},
   "outputs": [
    {
     "data": {
      "text/plain": [
       "array([[ 4,  5,  6],\n",
       "       [40, 50, 60],\n",
       "       [44, 66, 88]])"
      ]
     },
     "execution_count": 96,
     "metadata": {},
     "output_type": "execute_result"
    }
   ],
   "source": [
    "arr2 = np.array([[4,5,6],[40,50,60],[44,66,88]])\n",
    "arr2"
   ]
  },
  {
   "cell_type": "code",
   "execution_count": 100,
   "id": "4d14edcb",
   "metadata": {},
   "outputs": [
    {
     "data": {
      "text/plain": [
       "2"
      ]
     },
     "execution_count": 100,
     "metadata": {},
     "output_type": "execute_result"
    }
   ],
   "source": [
    "arr2.ndim"
   ]
  },
  {
   "cell_type": "code",
   "execution_count": 104,
   "id": "54c16c16",
   "metadata": {},
   "outputs": [
    {
     "data": {
      "text/plain": [
       "(3,)"
      ]
     },
     "execution_count": 104,
     "metadata": {},
     "output_type": "execute_result"
    }
   ],
   "source": [
    "arr1 = np.array([1,2,3])    # multiple 0D values\n",
    "arr1.shape"
   ]
  },
  {
   "cell_type": "code",
   "execution_count": 105,
   "id": "d032462d",
   "metadata": {},
   "outputs": [
    {
     "data": {
      "text/plain": [
       "1"
      ]
     },
     "execution_count": 105,
     "metadata": {},
     "output_type": "execute_result"
    }
   ],
   "source": [
    "arr1.ndim"
   ]
  },
  {
   "cell_type": "code",
   "execution_count": 106,
   "id": "473363c3",
   "metadata": {},
   "outputs": [
    {
     "data": {
      "text/plain": [
       "array([[ 4,  5,  6],\n",
       "       [40, 50, 60],\n",
       "       [44, 66, 88]])"
      ]
     },
     "execution_count": 106,
     "metadata": {},
     "output_type": "execute_result"
    }
   ],
   "source": [
    "arr2 = np.array([[4,5,6],[40,50,60],[44,66,88]])\n",
    "arr2"
   ]
  },
  {
   "cell_type": "code",
   "execution_count": 107,
   "id": "c927cf5e",
   "metadata": {},
   "outputs": [
    {
     "data": {
      "text/plain": [
       "(3, 3)"
      ]
     },
     "execution_count": 107,
     "metadata": {},
     "output_type": "execute_result"
    }
   ],
   "source": [
    "arr2.shape  # (1D, 0D)"
   ]
  },
  {
   "cell_type": "code",
   "execution_count": 108,
   "id": "7b5d567c",
   "metadata": {},
   "outputs": [
    {
     "data": {
      "text/plain": [
       "array([[ 4,  5,  6,  7],\n",
       "       [40, 50, 60,  7],\n",
       "       [44, 66, 88,  8]])"
      ]
     },
     "execution_count": 108,
     "metadata": {},
     "output_type": "execute_result"
    }
   ],
   "source": [
    "arr2 = np.array([[4,5,6,7],[40,50,60,7],[44,66,88,8]])\n",
    "arr2"
   ]
  },
  {
   "cell_type": "code",
   "execution_count": 110,
   "id": "0127a01c",
   "metadata": {},
   "outputs": [
    {
     "data": {
      "text/plain": [
       "2"
      ]
     },
     "execution_count": 110,
     "metadata": {},
     "output_type": "execute_result"
    }
   ],
   "source": [
    "arr2.ndim"
   ]
  },
  {
   "cell_type": "code",
   "execution_count": 109,
   "id": "6d7640af",
   "metadata": {},
   "outputs": [
    {
     "data": {
      "text/plain": [
       "(3, 4)"
      ]
     },
     "execution_count": 109,
     "metadata": {},
     "output_type": "execute_result"
    }
   ],
   "source": [
    "arr2.shape"
   ]
  },
  {
   "cell_type": "code",
   "execution_count": 111,
   "id": "49d91c8f",
   "metadata": {},
   "outputs": [
    {
     "data": {
      "text/plain": [
       "array([[ 4,  5,  6],\n",
       "       [40, 50, 60],\n",
       "       [44, 66, 88],\n",
       "       [ 1,  2,  3]])"
      ]
     },
     "execution_count": 111,
     "metadata": {},
     "output_type": "execute_result"
    }
   ],
   "source": [
    "arr2 = np.array([[4,5,6],[40,50,60],[44,66,88],[1,2,3]])\n",
    "arr2"
   ]
  },
  {
   "cell_type": "code",
   "execution_count": 112,
   "id": "388bf453",
   "metadata": {},
   "outputs": [
    {
     "data": {
      "text/plain": [
       "(4, 3)"
      ]
     },
     "execution_count": 112,
     "metadata": {},
     "output_type": "execute_result"
    }
   ],
   "source": [
    "arr2.shape     # gives answer in tuple"
   ]
  },
  {
   "cell_type": "code",
   "execution_count": 114,
   "id": "10591024",
   "metadata": {},
   "outputs": [
    {
     "name": "stdout",
     "output_type": "stream",
     "text": [
      "Number of rows :  4\n",
      "Number of Columns :  3\n"
     ]
    }
   ],
   "source": [
    "arr2 = np.array([[4,5,6],[40,50,60],[44,66,88],[1,2,3]])\n",
    "row_count = arr2.shape[0]\n",
    "col_count = arr2.shape[1]\n",
    "print(\"Number of rows : \", row_count)\n",
    "print(\"Number of Columns : \", col_count)\n"
   ]
  },
  {
   "cell_type": "markdown",
   "id": "ad4b82da",
   "metadata": {},
   "source": [
    "#### 4. Three Dimensional Array"
   ]
  },
  {
   "cell_type": "code",
   "execution_count": null,
   "id": "e233abd5",
   "metadata": {},
   "outputs": [],
   "source": [
    "It is a collection of multiple 2D arrays. 2D >> 1D >> 0D"
   ]
  },
  {
   "cell_type": "code",
   "execution_count": 118,
   "id": "579dd2bd",
   "metadata": {},
   "outputs": [
    {
     "name": "stdout",
     "output_type": "stream",
     "text": [
      "Array is : \n",
      " [2 3 4 5 6]\n",
      "Number of Dimensions : 1\n",
      "Shape of Array : (5,)\n"
     ]
    }
   ],
   "source": [
    "arr1 = np.array([2,3,4,5,6])    # multiple 0D arrays\n",
    "print(\"Array is : \\n\",arr1)\n",
    "print(\"Number of Dimensions :\" , arr1.ndim)\n",
    "print(\"Shape of Array :\" , arr1.shape)"
   ]
  },
  {
   "cell_type": "code",
   "execution_count": 120,
   "id": "c208631b",
   "metadata": {},
   "outputs": [
    {
     "name": "stdout",
     "output_type": "stream",
     "text": [
      "Array is : \n",
      " [[2 3 4 5]\n",
      " [6 4 5 6]]\n",
      "Number of Dimensions : 2\n",
      "Shape of Array : (2, 4)\n"
     ]
    }
   ],
   "source": [
    "arr2 = np.array([[2,3,4,5],[6,4,5,6]])    # multiple 1D arrays\n",
    "print(\"Array is : \\n\",arr2)\n",
    "print(\"Number of Dimensions :\" , arr2.ndim)\n",
    "print(\"Shape of Array :\" , arr2.shape)"
   ]
  },
  {
   "cell_type": "code",
   "execution_count": 122,
   "id": "86ac9489",
   "metadata": {},
   "outputs": [
    {
     "name": "stdout",
     "output_type": "stream",
     "text": [
      "Array is : \n",
      " [[[1 2 3]\n",
      "  [4 5 6]\n",
      "  [7 8 9]]]\n",
      "Number of Dimensions : 3\n",
      "Shape of Array : (1, 3, 3)\n"
     ]
    }
   ],
   "source": [
    "arr3 = np.array([[[1,2,3],[4,5,6],[7,8,9]]])    # multiple 2D arrays\n",
    "print(\"Array is : \\n\",arr3)\n",
    "print(\"Number of Dimensions :\" , arr3.ndim)\n",
    "print(\"Shape of Array :\" , arr3.shape)"
   ]
  },
  {
   "cell_type": "code",
   "execution_count": 125,
   "id": "37efd438",
   "metadata": {},
   "outputs": [
    {
     "name": "stdout",
     "output_type": "stream",
     "text": [
      "Array is : \n",
      " [[[1 2]\n",
      "  [3 4]]\n",
      "\n",
      " [[5 6]\n",
      "  [7 8]]]\n",
      "Number of Dimensions : 3\n",
      "Shape of Array : (2, 2, 2)\n"
     ]
    }
   ],
   "source": [
    "arr3 = np.array([[[1,2],[3,4]],[[5,6],[7,8]]])    # multiple 2D arrays\n",
    "print(\"Array is : \\n\",arr3)\n",
    "print(\"Number of Dimensions :\" , arr3.ndim)\n",
    "print(\"Shape of Array :\" , arr3.shape)\n",
    "\n",
    "# Number of 0D >> 2\n",
    "# Number Of 1D >> 2\n",
    "# Number of 2D >> 2"
   ]
  },
  {
   "cell_type": "code",
   "execution_count": 127,
   "id": "79271b86",
   "metadata": {},
   "outputs": [
    {
     "name": "stdout",
     "output_type": "stream",
     "text": [
      "Array is : \n",
      " [[[1 2]\n",
      "  [3 4]\n",
      "  [5 6]\n",
      "  [7 8]]]\n",
      "Number of Dimensions : 3\n",
      "Shape of Array : (1, 4, 2)\n"
     ]
    }
   ],
   "source": [
    "arr3 = np.array([[[1,2],[3,4],[5,6],[7,8]]])    # multiple 2D arrays\n",
    "print(\"Array is : \\n\",arr3)\n",
    "print(\"Number of Dimensions :\" , arr3.ndim)\n",
    "print(\"Shape of Array :\" , arr3.shape)\n",
    "\n",
    "# Number of 0D >> 2\n",
    "# Number Of 1D >> 4\n",
    "# Number of 2D >> 1"
   ]
  },
  {
   "cell_type": "code",
   "execution_count": 128,
   "id": "e1b8a3a6",
   "metadata": {},
   "outputs": [
    {
     "name": "stdout",
     "output_type": "stream",
     "text": [
      "Array is : \n",
      " [[[1 2]\n",
      "  [3 4]\n",
      "  [8 9]]\n",
      "\n",
      " [[5 6]\n",
      "  [7 8]\n",
      "  [8 6]]]\n",
      "Number of Dimensions : 3\n",
      "Shape of Array : (2, 3, 2)\n"
     ]
    }
   ],
   "source": [
    "arr3 = np.array([[[1,2],[3,4],[8,9]],[[5,6],[7,8],[8,6]]])    # multiple 2D arrays\n",
    "print(\"Array is : \\n\",arr3)\n",
    "print(\"Number of Dimensions :\" , arr3.ndim)\n",
    "print(\"Shape of Array :\" , arr3.shape)\n",
    "\n",
    "# Number of 0D >> 2\n",
    "# Number Of 1D >> 3\n",
    "# Number of 2D >> 2"
   ]
  },
  {
   "cell_type": "code",
   "execution_count": 129,
   "id": "365e2245",
   "metadata": {},
   "outputs": [
    {
     "name": "stdout",
     "output_type": "stream",
     "text": [
      "Array is : \n",
      " [[[1 2]\n",
      "  [3 4]\n",
      "  [8 9]]\n",
      "\n",
      " [[5 6]\n",
      "  [7 8]\n",
      "  [8 6]]]\n",
      "Number of Dimensions : 3\n",
      "Shape of Array : (2, 3, 2)\n"
     ]
    }
   ],
   "source": [
    "arr3 = np.array([[[1,2],[3,4],[8,9]],[[5,6],[7,8],[8,6]]])    # multiple 2D arrays\n",
    "print(\"Array is : \\n\",arr3)\n",
    "print(\"Number of Dimensions :\" , arr3.ndim)\n",
    "print(\"Shape of Array :\" , arr3.shape)\n",
    "\n",
    "# Number of 0D >> 2\n",
    "# Number Of 1D >> 3\n",
    "# Number of 2D >> 2"
   ]
  },
  {
   "cell_type": "code",
   "execution_count": 138,
   "id": "11ae8d3c",
   "metadata": {},
   "outputs": [
    {
     "name": "stdout",
     "output_type": "stream",
     "text": [
      "Array is :\n",
      " [[[[1 2]\n",
      "   [2 3]]\n",
      "\n",
      "  [[2 3]\n",
      "   [4 5]]]]\n",
      "Number of Dimensions are : 4\n",
      "Shape of an array is: (1, 2, 2, 2)\n"
     ]
    }
   ],
   "source": [
    "arr4 = np.array([[[[1,2],[2,3]],[[2,3],[4,5]]]])  \n",
    "print('Array is :\\n', arr4)\n",
    "print('Number of Dimensions are :', arr4.ndim)\n",
    "print('Shape of an array is:', arr4.shape)\n",
    "\n",
    "# NUmber of 0D >> 2\n",
    "# NUmber of 1D >> 2\n",
    "# NUmber of 2D >> 2\n",
    "# NUmber of 3D >> 1"
   ]
  },
  {
   "cell_type": "code",
   "execution_count": 4,
   "id": "509db7d0",
   "metadata": {},
   "outputs": [
    {
     "name": "stdout",
     "output_type": "stream",
     "text": [
      "Array is :\n",
      " [[[[1 2]\n",
      "   [2 3]]\n",
      "\n",
      "  [[2 3]\n",
      "   [4 5]]]\n",
      "\n",
      "\n",
      " [[[3 4]\n",
      "   [5 6]]\n",
      "\n",
      "  [[3 4]\n",
      "   [5 6]]]]\n",
      "Number of Dimensions are : 4\n",
      "Shape of an array is: (2, 2, 2, 2)\n"
     ]
    }
   ],
   "source": [
    "import numpy as np\n",
    "arr4 = np.array([[[[1,2],[2,3]],[[2,3],[4,5]]], [[[3,4],[5,6]],[[3,4],[5,6]]]])  \n",
    "print('Array is :\\n', arr4)\n",
    "print('Number of Dimensions are :', arr4.ndim)\n",
    "print('Shape of an array is:', arr4.shape)\n",
    "\n",
    "# NUmber of 0D >> 2\n",
    "# NUmber of 1D >> 2\n",
    "# NUmber of 2D >> 2\n",
    "# NUmber of 3D >> 1"
   ]
  },
  {
   "cell_type": "code",
   "execution_count": 5,
   "id": "24287557",
   "metadata": {},
   "outputs": [
    {
     "name": "stdout",
     "output_type": "stream",
     "text": [
      "Array is :\n",
      " [[[[1 2]\n",
      "   [2 3]]\n",
      "\n",
      "  [[2 3]\n",
      "   [4 5]]\n",
      "\n",
      "  [[3 4]\n",
      "   [5 6]]\n",
      "\n",
      "  [[3 4]\n",
      "   [5 6]]]]\n",
      "Number of Dimensions are : 4\n",
      "Shape of an array is: (1, 4, 2, 2)\n"
     ]
    }
   ],
   "source": [
    "import numpy as np\n",
    "arr4 = np.array([[[[1,2],[2,3]],[[2,3],[4,5]],[[3,4],[5,6]],[[3,4],[5,6]]]])  \n",
    "print('Array is :\\n', arr4)\n",
    "print('Number of Dimensions are :', arr4.ndim)\n",
    "print('Shape of an array is:', arr4.shape)\n",
    "\n",
    "# NUmber of 0D >> 2\n",
    "# NUmber of 1D >> 2\n",
    "# NUmber of 2D >> 2\n",
    "# NUmber of 3D >> 1"
   ]
  },
  {
   "cell_type": "code",
   "execution_count": null,
   "id": "b8ba8df5",
   "metadata": {},
   "outputs": [],
   "source": [
    "0D\n",
    "1D >> 0D\n",
    "2D >> 1D >> 0D\n",
    "3D >> 2D >> 1D >> 0D\n",
    "4D >> 3D >> 2D >> 1D >> 0D"
   ]
  },
  {
   "cell_type": "code",
   "execution_count": 7,
   "id": "1be5abee",
   "metadata": {},
   "outputs": [
    {
     "data": {
      "text/plain": [
       "()"
      ]
     },
     "execution_count": 7,
     "metadata": {},
     "output_type": "execute_result"
    }
   ],
   "source": [
    "arr0 = np.array(30)\n",
    "arr0.shape"
   ]
  },
  {
   "cell_type": "code",
   "execution_count": 8,
   "id": "78cbaf6d",
   "metadata": {},
   "outputs": [
    {
     "data": {
      "text/plain": [
       "(1,)"
      ]
     },
     "execution_count": 8,
     "metadata": {},
     "output_type": "execute_result"
    }
   ],
   "source": [
    "arr1 = np.array([30])\n",
    "arr1.shape"
   ]
  },
  {
   "cell_type": "code",
   "execution_count": 9,
   "id": "9ba22bee",
   "metadata": {},
   "outputs": [
    {
     "data": {
      "text/plain": [
       "array([ 1.,  2.,  5., nan])"
      ]
     },
     "execution_count": 9,
     "metadata": {},
     "output_type": "execute_result"
    }
   ],
   "source": [
    "np.array([1,2,5, np.nan])"
   ]
  },
  {
   "cell_type": "code",
   "execution_count": null,
   "id": "4b279ba9",
   "metadata": {},
   "outputs": [],
   "source": []
  },
  {
   "cell_type": "code",
   "execution_count": null,
   "id": "c642d250",
   "metadata": {},
   "outputs": [],
   "source": []
  },
  {
   "cell_type": "code",
   "execution_count": null,
   "id": "8c2f0ec1",
   "metadata": {},
   "outputs": [],
   "source": []
  },
  {
   "cell_type": "code",
   "execution_count": null,
   "id": "c6a3d5a7",
   "metadata": {},
   "outputs": [],
   "source": []
  },
  {
   "cell_type": "code",
   "execution_count": null,
   "id": "1b3f822f",
   "metadata": {},
   "outputs": [],
   "source": []
  },
  {
   "cell_type": "code",
   "execution_count": null,
   "id": "78f1037f",
   "metadata": {},
   "outputs": [],
   "source": []
  },
  {
   "cell_type": "code",
   "execution_count": null,
   "id": "1a227ea6",
   "metadata": {},
   "outputs": [],
   "source": []
  },
  {
   "cell_type": "code",
   "execution_count": null,
   "id": "c2e43d8e",
   "metadata": {},
   "outputs": [],
   "source": []
  },
  {
   "cell_type": "code",
   "execution_count": null,
   "id": "64d228d8",
   "metadata": {},
   "outputs": [],
   "source": []
  },
  {
   "cell_type": "code",
   "execution_count": null,
   "id": "c95c97f9",
   "metadata": {},
   "outputs": [],
   "source": []
  },
  {
   "cell_type": "code",
   "execution_count": null,
   "id": "a72a50b9",
   "metadata": {},
   "outputs": [],
   "source": []
  },
  {
   "cell_type": "code",
   "execution_count": null,
   "id": "8f71a483",
   "metadata": {},
   "outputs": [],
   "source": []
  },
  {
   "cell_type": "code",
   "execution_count": null,
   "id": "90dab281",
   "metadata": {},
   "outputs": [],
   "source": []
  },
  {
   "cell_type": "code",
   "execution_count": null,
   "id": "910acb29",
   "metadata": {},
   "outputs": [],
   "source": []
  },
  {
   "cell_type": "code",
   "execution_count": null,
   "id": "2e492116",
   "metadata": {},
   "outputs": [],
   "source": []
  },
  {
   "cell_type": "code",
   "execution_count": null,
   "id": "1254b738",
   "metadata": {},
   "outputs": [],
   "source": []
  },
  {
   "cell_type": "code",
   "execution_count": null,
   "id": "199c98a5",
   "metadata": {},
   "outputs": [],
   "source": []
  },
  {
   "cell_type": "code",
   "execution_count": null,
   "id": "c180dc8d",
   "metadata": {},
   "outputs": [],
   "source": []
  },
  {
   "cell_type": "code",
   "execution_count": null,
   "id": "55819daa",
   "metadata": {},
   "outputs": [],
   "source": []
  },
  {
   "cell_type": "code",
   "execution_count": null,
   "id": "8ffc23b9",
   "metadata": {},
   "outputs": [],
   "source": []
  },
  {
   "cell_type": "code",
   "execution_count": null,
   "id": "9fad3cb8",
   "metadata": {},
   "outputs": [],
   "source": []
  }
 ],
 "metadata": {
  "kernelspec": {
   "display_name": "Python 3 (ipykernel)",
   "language": "python",
   "name": "python3"
  },
  "language_info": {
   "codemirror_mode": {
    "name": "ipython",
    "version": 3
   },
   "file_extension": ".py",
   "mimetype": "text/x-python",
   "name": "python",
   "nbconvert_exporter": "python",
   "pygments_lexer": "ipython3",
   "version": "3.11.5"
  }
 },
 "nbformat": 4,
 "nbformat_minor": 5
}
